{
 "cells": [
  {
   "cell_type": "markdown",
   "id": "5648c95d",
   "metadata": {},
   "source": [
    "# Libraries "
   ]
  },
  {
   "cell_type": "code",
   "execution_count": 1,
   "id": "9a5198e8",
   "metadata": {},
   "outputs": [
    {
     "name": "stdout",
     "output_type": "stream",
     "text": [
      "Collecting boto3\n",
      "  Downloading boto3-1.26.165-py3-none-any.whl (135 kB)\n",
      "\u001b[2K     \u001b[90m━━━━━━━━━━━━━━━━━━━━━━━━━━━━━━━━━━━━━\u001b[0m \u001b[32m135.9/135.9 kB\u001b[0m \u001b[31m538.6 kB/s\u001b[0m eta \u001b[36m0:00:00\u001b[0m00:01\u001b[0m00:01\u001b[0m\n",
      "\u001b[?25hCollecting s3transfer<0.7.0,>=0.6.0\n",
      "  Downloading s3transfer-0.6.1-py3-none-any.whl (79 kB)\n",
      "\u001b[2K     \u001b[90m━━━━━━━━━━━━━━━━━━━━━━━━━━━━━━━━━━━━━━━\u001b[0m \u001b[32m79.8/79.8 kB\u001b[0m \u001b[31m488.6 kB/s\u001b[0m eta \u001b[36m0:00:00\u001b[0ma \u001b[36m0:00:01\u001b[0m\n",
      "\u001b[?25hCollecting botocore<1.30.0,>=1.29.165\n",
      "  Downloading botocore-1.29.165-py3-none-any.whl (11.0 MB)\n",
      "\u001b[2K     \u001b[90m━━━━━━━━━━━━━━━━━━━━━━━━━━━━━━━━━━━━━━━━\u001b[0m \u001b[32m11.0/11.0 MB\u001b[0m \u001b[31m2.5 MB/s\u001b[0m eta \u001b[36m0:00:00\u001b[0m00:01\u001b[0m00:01\u001b[0m\n",
      "\u001b[?25hCollecting jmespath<2.0.0,>=0.7.1\n",
      "  Downloading jmespath-1.0.1-py3-none-any.whl (20 kB)\n",
      "Requirement already satisfied: urllib3<1.27,>=1.25.4 in /opt/conda/lib/python3.10/site-packages (from botocore<1.30.0,>=1.29.165->boto3) (1.26.14)\n",
      "Requirement already satisfied: python-dateutil<3.0.0,>=2.1 in /opt/conda/lib/python3.10/site-packages (from botocore<1.30.0,>=1.29.165->boto3) (2.8.2)\n",
      "Requirement already satisfied: six>=1.5 in /opt/conda/lib/python3.10/site-packages (from python-dateutil<3.0.0,>=2.1->botocore<1.30.0,>=1.29.165->boto3) (1.16.0)\n",
      "Installing collected packages: jmespath, botocore, s3transfer, boto3\n",
      "Successfully installed boto3-1.26.165 botocore-1.29.165 jmespath-1.0.1 s3transfer-0.6.1\n"
     ]
    }
   ],
   "source": [
    "!pip install boto3"
   ]
  },
  {
   "cell_type": "code",
   "execution_count": 2,
   "id": "aecdb748",
   "metadata": {},
   "outputs": [],
   "source": [
    "import pyspark\n",
    "import boto3\n",
    "from io import StringIO \n",
    "from pyspark.sql import SparkSession\n",
    "from pyspark.sql.types import StructType,StructField, StringType, IntegerType \n",
    "from pyspark.sql.types import ArrayType, DoubleType, BooleanType\n",
    "from pyspark.sql.functions import col,array_contains\n",
    "from pyspark.sql import SparkSession"
   ]
  },
  {
   "cell_type": "markdown",
   "id": "2cf444eb",
   "metadata": {},
   "source": [
    "\n",
    "# Spark"
   ]
  },
  {
   "cell_type": "code",
   "execution_count": 3,
   "id": "f38a99af",
   "metadata": {},
   "outputs": [],
   "source": [
    "conf = pyspark.SparkConf()\n",
    "\n",
    "conf.setMaster(\"local[1]\") \n",
    "conf.set(\"spark.driver.host\", \"awari-jupyterlab\") \\\n",
    "    .set(\"spark.sql.sources.commitProtocolClass\", \"org.apache.spark.sql.execution.datasources.SQLHadoopMapReduceCommitProtocol\") \\\n",
    "    .set(\"parquet.enable.summary-metadata\", \"false\") \\\n",
    "    .set(\"mapreduce.fileoutputcommitter.marksuccessfuljobs\", \"false\") \\\n",
    "    .set(\"spark.driver.port\", \"20020\") \\\n",
    "    .set(\"spark.hadoop.fs.s3a.endpoint\", 'awari-nginx:9000') \\\n",
    "    .set(\"spark.hadoop.fs.s3a.endpoint.region\", 'sa-east-1') \\\n",
    "    .set(\"spark.hadoop.fs.s3a.access.key\", 'oFhhQYp82kgEJfa6') \\\n",
    "    .set(\"spark.hadoop.fs.s3a.secret.key\", 'a17pIbkBn63FY4XWgWOtrsY7gjnRUMZR') \\\n",
    "    .set(\"spark.hadoop.fs.s3a.impl\", \"org.apache.hadoop.fs.s3a.S3AFileSystem\") \\\n",
    "    .set(\"spark.hadoop.fs.s3a.connection.ssl.enabled\", \"false\") \\\n",
    "    .set(\"spark.hadoop.com.amazonaws.services.s3.enableV2\", \"true\") \\\n",
    "    .set(\"spark.hadoop.fs.s3a.committer.staging.conflict-mode\", \"replace\") \\\n",
    "    .set(\"spark.hadoop.fs.s3a.fast.upload\", True) \\\n",
    "    .set(\"spark.hadoop.fs.s3a.path.style.access\", True) \\\n",
    "    .set(\"spark.hadoop.fs.s3a.committer.name\", \"directory\") \\\n",
    "    .set(\"spark.hadoop.fs.s3a.committer.staging.tmp.path\", \"/tmp/staging\")\n",
    "\n",
    "conf.setAppName('AwariAula08-S33')\n",
    "sc = pyspark.SparkContext(conf=conf)\n",
    "\n",
    "spark = SparkSession(sc)"
   ]
  },
  {
   "cell_type": "markdown",
   "id": "4f65c44f",
   "metadata": {},
   "source": [
    "# MinIO "
   ]
  },
  {
   "cell_type": "code",
   "execution_count": 4,
   "id": "4735a9c8",
   "metadata": {},
   "outputs": [],
   "source": [
    "client = boto3.client('s3', \n",
    "    endpoint_url='http://awari-minio-nginx:9000',\n",
    "    aws_access_key_id='oFhhQYp82kgEJfa6',\n",
    "    aws_secret_access_key='a17pIbkBn63FY4XWgWOtrsY7gjnRUMZR',\n",
    "    aws_session_token=None,\n",
    "    config=boto3.session.Config(signature_version='s3v4'),\n",
    "    verify=False,\n",
    "    region_name='sa-east-1'\n",
    ")"
   ]
  },
  {
   "cell_type": "markdown",
   "id": "db5fe728",
   "metadata": {},
   "source": [
    "# Loading files"
   ]
  },
  {
   "cell_type": "code",
   "execution_count": 22,
   "id": "8ee5e2fa",
   "metadata": {},
   "outputs": [],
   "source": [
    "estados = spark.read.option(\"header\", True).csv(\"./data/estados.csv\")\n",
    "municipios = spark.read.option(\"header\", True).csv(\"./data/municipios.csv\")"
   ]
  },
  {
   "cell_type": "code",
   "execution_count": 30,
   "id": "d007c914",
   "metadata": {},
   "outputs": [
    {
     "name": "stdout",
     "output_type": "stream",
     "text": [
      "+---------+---+--------+--------+---------+------+\n",
      "|codigo_uf| uf|    nome|latitude|longitude|regiao|\n",
      "+---------+---+--------+--------+---------+------+\n",
      "|       11| RO|Rondônia|  -10.83|   -63.34| Norte|\n",
      "|       12| AC|    Acre|   -8.77|   -70.55| Norte|\n",
      "|       13| AM|Amazonas|   -3.47|    -65.1| Norte|\n",
      "|       14| RR| Roraima|    1.99|   -61.33| Norte|\n",
      "|       15| PA|    Pará|   -3.79|   -52.48| Norte|\n",
      "+---------+---+--------+--------+---------+------+\n",
      "only showing top 5 rows\n",
      "\n"
     ]
    }
   ],
   "source": [
    "estados.show(5)"
   ]
  },
  {
   "cell_type": "code",
   "execution_count": 37,
   "id": "17801cde",
   "metadata": {},
   "outputs": [
    {
     "name": "stdout",
     "output_type": "stream",
     "text": [
      "+-----------+-------------------+--------+---------+-------+---------+--------+---+-----------------+\n",
      "|codigo_ibge|               nome|latitude|longitude|capital|codigo_uf|siafi_id|ddd|     fuso_horario|\n",
      "+-----------+-------------------+--------+---------+-------+---------+--------+---+-----------------+\n",
      "|    5200050|    Abadia de Goiás|-16.7573| -49.4412|      0|       52|    1050| 62|America/Sao_Paulo|\n",
      "|    3100104|Abadia dos Dourados|-18.4831| -47.3916|      0|       31|    4001| 34|America/Sao_Paulo|\n",
      "|    5200100|          Abadiânia| -16.197| -48.7057|      0|       52|    9201| 62|America/Sao_Paulo|\n",
      "|    3100203|             Abaeté|-19.1551| -45.4444|      0|       31|    4003| 37|America/Sao_Paulo|\n",
      "|    1500107|         Abaetetuba|-1.72183| -48.8788|      0|       15|    0401| 91|America/Sao_Paulo|\n",
      "+-----------+-------------------+--------+---------+-------+---------+--------+---+-----------------+\n",
      "only showing top 5 rows\n",
      "\n"
     ]
    }
   ],
   "source": [
    "municipios.show(5)"
   ]
  },
  {
   "cell_type": "markdown",
   "id": "5799380c",
   "metadata": {},
   "source": [
    "# Send files"
   ]
  },
  {
   "cell_type": "markdown",
   "id": "dd239f16",
   "metadata": {},
   "source": [
    "## parquet "
   ]
  },
  {
   "cell_type": "code",
   "execution_count": 7,
   "id": "1ce26fae",
   "metadata": {},
   "outputs": [],
   "source": [
    "estados.write.save(\"s3a://aula-08/estados_parquet\")"
   ]
  },
  {
   "cell_type": "code",
   "execution_count": 8,
   "id": "a1714faa",
   "metadata": {},
   "outputs": [],
   "source": [
    "municipios.write.save(\"s3a://aula-08/municipios_parquet\")"
   ]
  },
  {
   "cell_type": "markdown",
   "id": "777fbc16",
   "metadata": {},
   "source": [
    "## csv "
   ]
  },
  {
   "cell_type": "code",
   "execution_count": 46,
   "id": "84409ea3",
   "metadata": {},
   "outputs": [],
   "source": [
    "estados.write.csv(\"./estados_csv\")"
   ]
  },
  {
   "cell_type": "code",
   "execution_count": 47,
   "id": "b1a85406",
   "metadata": {},
   "outputs": [],
   "source": [
    "municipios.write.csv(\"./municipios_csv\")"
   ]
  },
  {
   "cell_type": "markdown",
   "id": "77934de8",
   "metadata": {},
   "source": [
    "## json "
   ]
  },
  {
   "cell_type": "code",
   "execution_count": 48,
   "id": "240f909e",
   "metadata": {},
   "outputs": [],
   "source": [
    "estados.write.json(\"./estados_json\")"
   ]
  },
  {
   "cell_type": "code",
   "execution_count": 49,
   "id": "2415c66f",
   "metadata": {},
   "outputs": [],
   "source": [
    "municipios.write.json(\"./municipios_json\")"
   ]
  }
 ],
 "metadata": {
  "kernelspec": {
   "display_name": "Python 3 (ipykernel)",
   "language": "python",
   "name": "python3"
  },
  "language_info": {
   "codemirror_mode": {
    "name": "ipython",
    "version": 3
   },
   "file_extension": ".py",
   "mimetype": "text/x-python",
   "name": "python",
   "nbconvert_exporter": "python",
   "pygments_lexer": "ipython3",
   "version": "3.10.9"
  }
 },
 "nbformat": 4,
 "nbformat_minor": 5
}
