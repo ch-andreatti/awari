{
 "cells": [
  {
   "cell_type": "markdown",
   "id": "fa770632",
   "metadata": {},
   "source": [
    "# Libraries"
   ]
  },
  {
   "cell_type": "code",
   "execution_count": 1,
   "id": "cc559e48",
   "metadata": {},
   "outputs": [],
   "source": [
    "import pandas as pd"
   ]
  },
  {
   "cell_type": "markdown",
   "id": "2e233f43",
   "metadata": {},
   "source": [
    "# Load data "
   ]
  },
  {
   "cell_type": "code",
   "execution_count": 2,
   "id": "579a9647",
   "metadata": {},
   "outputs": [],
   "source": [
    "df = pd.read_csv(\"topyoutube.csv\")"
   ]
  },
  {
   "cell_type": "code",
   "execution_count": 3,
   "id": "eafcdcc7",
   "metadata": {},
   "outputs": [
    {
     "data": {
      "text/html": [
       "<div>\n",
       "<style scoped>\n",
       "    .dataframe tbody tr th:only-of-type {\n",
       "        vertical-align: middle;\n",
       "    }\n",
       "\n",
       "    .dataframe tbody tr th {\n",
       "        vertical-align: top;\n",
       "    }\n",
       "\n",
       "    .dataframe thead th {\n",
       "        text-align: right;\n",
       "    }\n",
       "</style>\n",
       "<table border=\"1\" class=\"dataframe\">\n",
       "  <thead>\n",
       "    <tr style=\"text-align: right;\">\n",
       "      <th></th>\n",
       "      <th>Artist</th>\n",
       "      <th>Total Views</th>\n",
       "      <th>100M</th>\n",
       "      <th>Avg</th>\n",
       "    </tr>\n",
       "  </thead>\n",
       "  <tbody>\n",
       "    <tr>\n",
       "      <th>0</th>\n",
       "      <td>BTS</td>\n",
       "      <td>27,947.9</td>\n",
       "      <td>63.0</td>\n",
       "      <td>7.370</td>\n",
       "    </tr>\n",
       "    <tr>\n",
       "      <th>1</th>\n",
       "      <td>Bad Bunny</td>\n",
       "      <td>27,573.4</td>\n",
       "      <td>66.0</td>\n",
       "      <td>14.555</td>\n",
       "    </tr>\n",
       "    <tr>\n",
       "      <th>2</th>\n",
       "      <td>Justin Bieber</td>\n",
       "      <td>27,399.7</td>\n",
       "      <td>37.0</td>\n",
       "      <td>3.986</td>\n",
       "    </tr>\n",
       "    <tr>\n",
       "      <th>3</th>\n",
       "      <td>Ed Sheeran</td>\n",
       "      <td>26,894.0</td>\n",
       "      <td>39.0</td>\n",
       "      <td>4.609</td>\n",
       "    </tr>\n",
       "    <tr>\n",
       "      <th>4</th>\n",
       "      <td>Taylor Swift</td>\n",
       "      <td>24,350.0</td>\n",
       "      <td>38.0</td>\n",
       "      <td>5.716</td>\n",
       "    </tr>\n",
       "  </tbody>\n",
       "</table>\n",
       "</div>"
      ],
      "text/plain": [
       "          Artist Total Views  100M     Avg\n",
       "0            BTS    27,947.9  63.0   7.370\n",
       "1      Bad Bunny    27,573.4  66.0  14.555\n",
       "2  Justin Bieber    27,399.7  37.0   3.986\n",
       "3     Ed Sheeran    26,894.0  39.0   4.609\n",
       "4   Taylor Swift    24,350.0  38.0   5.716"
      ]
     },
     "execution_count": 3,
     "metadata": {},
     "output_type": "execute_result"
    }
   ],
   "source": [
    "df.head()"
   ]
  },
  {
   "cell_type": "code",
   "execution_count": 4,
   "id": "b0ae4286",
   "metadata": {},
   "outputs": [
    {
     "data": {
      "text/plain": [
       "Artist          object\n",
       "Total Views     object\n",
       "100M           float64\n",
       "Avg            float64\n",
       "dtype: object"
      ]
     },
     "execution_count": 4,
     "metadata": {},
     "output_type": "execute_result"
    }
   ],
   "source": [
    "df.dtypes"
   ]
  },
  {
   "cell_type": "code",
   "execution_count": 5,
   "id": "56b55613",
   "metadata": {},
   "outputs": [
    {
     "data": {
      "text/plain": [
       "(1587, 4)"
      ]
     },
     "execution_count": 5,
     "metadata": {},
     "output_type": "execute_result"
    }
   ],
   "source": [
    "df.shape"
   ]
  },
  {
   "cell_type": "markdown",
   "id": "acbc60dc",
   "metadata": {},
   "source": [
    "# Data preparation"
   ]
  },
  {
   "cell_type": "markdown",
   "id": "4046f594",
   "metadata": {},
   "source": [
    "## Complete null values"
   ]
  },
  {
   "cell_type": "code",
   "execution_count": 6,
   "id": "0acd354a",
   "metadata": {},
   "outputs": [
    {
     "data": {
      "text/plain": [
       "Artist           0\n",
       "Total Views      0\n",
       "100M           171\n",
       "Avg              0\n",
       "dtype: int64"
      ]
     },
     "execution_count": 6,
     "metadata": {},
     "output_type": "execute_result"
    }
   ],
   "source": [
    "# Empty values per column\n",
    "df.isna().sum()"
   ]
  },
  {
   "cell_type": "code",
   "execution_count": 8,
   "id": "1195fb38",
   "metadata": {},
   "outputs": [],
   "source": [
    "df[\"100M\"].fillna(0, inplace=True)"
   ]
  },
  {
   "cell_type": "markdown",
   "id": "812d56ab",
   "metadata": {},
   "source": [
    "## Multiply column  100M per 100.000.000"
   ]
  },
  {
   "cell_type": "code",
   "execution_count": 11,
   "id": "f4a2e731",
   "metadata": {},
   "outputs": [],
   "source": [
    "df[\"100M\"] = df[\"100M\"] * 100_000_000"
   ]
  },
  {
   "cell_type": "markdown",
   "id": "f3c23b1e",
   "metadata": {},
   "source": [
    "## Format “AVG” column to 2 decimal places after comma "
   ]
  },
  {
   "cell_type": "code",
   "execution_count": 17,
   "id": "2150ad71",
   "metadata": {},
   "outputs": [],
   "source": [
    "df[\"Avg\"] = round(df[\"Avg\"], 2)"
   ]
  },
  {
   "cell_type": "markdown",
   "id": "9ff034fb",
   "metadata": {},
   "source": [
    "# Data analysis "
   ]
  },
  {
   "cell_type": "markdown",
   "id": "6a5c9694",
   "metadata": {},
   "source": [
    "## Top 10 users"
   ]
  },
  {
   "cell_type": "code",
   "execution_count": 20,
   "id": "5fc6c70d",
   "metadata": {},
   "outputs": [
    {
     "data": {
      "text/html": [
       "<div>\n",
       "<style scoped>\n",
       "    .dataframe tbody tr th:only-of-type {\n",
       "        vertical-align: middle;\n",
       "    }\n",
       "\n",
       "    .dataframe tbody tr th {\n",
       "        vertical-align: top;\n",
       "    }\n",
       "\n",
       "    .dataframe thead th {\n",
       "        text-align: right;\n",
       "    }\n",
       "</style>\n",
       "<table border=\"1\" class=\"dataframe\">\n",
       "  <thead>\n",
       "    <tr style=\"text-align: right;\">\n",
       "      <th></th>\n",
       "      <th>Artist</th>\n",
       "      <th>Total Views</th>\n",
       "      <th>100M</th>\n",
       "      <th>Avg</th>\n",
       "    </tr>\n",
       "  </thead>\n",
       "  <tbody>\n",
       "    <tr>\n",
       "      <th>0</th>\n",
       "      <td>BTS</td>\n",
       "      <td>27,947.9</td>\n",
       "      <td>6.300000e+09</td>\n",
       "      <td>7.37</td>\n",
       "    </tr>\n",
       "    <tr>\n",
       "      <th>1</th>\n",
       "      <td>Bad Bunny</td>\n",
       "      <td>27,573.4</td>\n",
       "      <td>6.600000e+09</td>\n",
       "      <td>14.56</td>\n",
       "    </tr>\n",
       "    <tr>\n",
       "      <th>2</th>\n",
       "      <td>Justin Bieber</td>\n",
       "      <td>27,399.7</td>\n",
       "      <td>3.700000e+09</td>\n",
       "      <td>3.99</td>\n",
       "    </tr>\n",
       "    <tr>\n",
       "      <th>3</th>\n",
       "      <td>Ed Sheeran</td>\n",
       "      <td>26,894.0</td>\n",
       "      <td>3.900000e+09</td>\n",
       "      <td>4.61</td>\n",
       "    </tr>\n",
       "    <tr>\n",
       "      <th>4</th>\n",
       "      <td>Taylor Swift</td>\n",
       "      <td>24,350.0</td>\n",
       "      <td>3.800000e+09</td>\n",
       "      <td>5.72</td>\n",
       "    </tr>\n",
       "    <tr>\n",
       "      <th>5</th>\n",
       "      <td>Shakira</td>\n",
       "      <td>23,961.8</td>\n",
       "      <td>4.300000e+09</td>\n",
       "      <td>7.84</td>\n",
       "    </tr>\n",
       "    <tr>\n",
       "      <th>6</th>\n",
       "      <td>Katy Perry</td>\n",
       "      <td>23,553.4</td>\n",
       "      <td>2.500000e+09</td>\n",
       "      <td>3.18</td>\n",
       "    </tr>\n",
       "    <tr>\n",
       "      <th>7</th>\n",
       "      <td>Ozuna</td>\n",
       "      <td>22,524.8</td>\n",
       "      <td>4.900000e+09</td>\n",
       "      <td>4.93</td>\n",
       "    </tr>\n",
       "    <tr>\n",
       "      <th>8</th>\n",
       "      <td>Eminem</td>\n",
       "      <td>20,937.7</td>\n",
       "      <td>3.800000e+09</td>\n",
       "      <td>5.84</td>\n",
       "    </tr>\n",
       "    <tr>\n",
       "      <th>9</th>\n",
       "      <td>Ariana Grande</td>\n",
       "      <td>20,618.5</td>\n",
       "      <td>3.700000e+09</td>\n",
       "      <td>3.37</td>\n",
       "    </tr>\n",
       "  </tbody>\n",
       "</table>\n",
       "</div>"
      ],
      "text/plain": [
       "          Artist Total Views          100M    Avg\n",
       "0            BTS    27,947.9  6.300000e+09   7.37\n",
       "1      Bad Bunny    27,573.4  6.600000e+09  14.56\n",
       "2  Justin Bieber    27,399.7  3.700000e+09   3.99\n",
       "3     Ed Sheeran    26,894.0  3.900000e+09   4.61\n",
       "4   Taylor Swift    24,350.0  3.800000e+09   5.72\n",
       "5        Shakira    23,961.8  4.300000e+09   7.84\n",
       "6     Katy Perry    23,553.4  2.500000e+09   3.18\n",
       "7          Ozuna    22,524.8  4.900000e+09   4.93\n",
       "8         Eminem    20,937.7  3.800000e+09   5.84\n",
       "9  Ariana Grande    20,618.5  3.700000e+09   3.37"
      ]
     },
     "execution_count": 20,
     "metadata": {},
     "output_type": "execute_result"
    }
   ],
   "source": [
    "df.head(10)"
   ]
  },
  {
   "cell_type": "markdown",
   "id": "10e2b42c",
   "metadata": {},
   "source": [
    "## First 100 users by name descending"
   ]
  },
  {
   "cell_type": "code",
   "execution_count": 23,
   "id": "8e7683b0",
   "metadata": {},
   "outputs": [],
   "source": [
    "df_filter_by_name = \\\n",
    "df.sort_values(by=['Artist'], ascending=False, ignore_index=True)"
   ]
  },
  {
   "cell_type": "code",
   "execution_count": 35,
   "id": "893052e7",
   "metadata": {},
   "outputs": [
    {
     "data": {
      "text/html": [
       "<div>\n",
       "<style scoped>\n",
       "    .dataframe tbody tr th:only-of-type {\n",
       "        vertical-align: middle;\n",
       "    }\n",
       "\n",
       "    .dataframe tbody tr th {\n",
       "        vertical-align: top;\n",
       "    }\n",
       "\n",
       "    .dataframe thead th {\n",
       "        text-align: right;\n",
       "    }\n",
       "</style>\n",
       "<table border=\"1\" class=\"dataframe\">\n",
       "  <thead>\n",
       "    <tr style=\"text-align: right;\">\n",
       "      <th></th>\n",
       "      <th>Artist</th>\n",
       "      <th>Total Views</th>\n",
       "      <th>100M</th>\n",
       "      <th>Avg</th>\n",
       "    </tr>\n",
       "  </thead>\n",
       "  <tbody>\n",
       "    <tr>\n",
       "      <th>0</th>\n",
       "      <td>Łobuzy</td>\n",
       "      <td>396.5</td>\n",
       "      <td>200000000.0</td>\n",
       "      <td>0.11</td>\n",
       "    </tr>\n",
       "    <tr>\n",
       "      <th>1</th>\n",
       "      <td>İrem Derici</td>\n",
       "      <td>1,717.3</td>\n",
       "      <td>300000000.0</td>\n",
       "      <td>0.32</td>\n",
       "    </tr>\n",
       "    <tr>\n",
       "      <th>2</th>\n",
       "      <td>Ñengo Flow</td>\n",
       "      <td>1,388.8</td>\n",
       "      <td>400000000.0</td>\n",
       "      <td>0.82</td>\n",
       "    </tr>\n",
       "    <tr>\n",
       "      <th>3</th>\n",
       "      <td>Çağatay Akman</td>\n",
       "      <td>742.7</td>\n",
       "      <td>200000000.0</td>\n",
       "      <td>0.05</td>\n",
       "    </tr>\n",
       "    <tr>\n",
       "      <th>4</th>\n",
       "      <td>will.i.am</td>\n",
       "      <td>2,582.0</td>\n",
       "      <td>600000000.0</td>\n",
       "      <td>0.30</td>\n",
       "    </tr>\n",
       "    <tr>\n",
       "      <th>...</th>\n",
       "      <td>...</td>\n",
       "      <td>...</td>\n",
       "      <td>...</td>\n",
       "      <td>...</td>\n",
       "    </tr>\n",
       "    <tr>\n",
       "      <th>95</th>\n",
       "      <td>Via Vallen</td>\n",
       "      <td>1,787.5</td>\n",
       "      <td>300000000.0</td>\n",
       "      <td>0.08</td>\n",
       "    </tr>\n",
       "    <tr>\n",
       "      <th>96</th>\n",
       "      <td>Veysel Mutlu</td>\n",
       "      <td>277.4</td>\n",
       "      <td>100000000.0</td>\n",
       "      <td>0.03</td>\n",
       "    </tr>\n",
       "    <tr>\n",
       "      <th>97</th>\n",
       "      <td>Veysel</td>\n",
       "      <td>412.2</td>\n",
       "      <td>0.0</td>\n",
       "      <td>0.06</td>\n",
       "    </tr>\n",
       "    <tr>\n",
       "      <th>98</th>\n",
       "      <td>Vengaboys</td>\n",
       "      <td>934.8</td>\n",
       "      <td>300000000.0</td>\n",
       "      <td>0.34</td>\n",
       "    </tr>\n",
       "    <tr>\n",
       "      <th>99</th>\n",
       "      <td>Vegedream</td>\n",
       "      <td>991.3</td>\n",
       "      <td>100000000.0</td>\n",
       "      <td>0.51</td>\n",
       "    </tr>\n",
       "  </tbody>\n",
       "</table>\n",
       "<p>100 rows × 4 columns</p>\n",
       "</div>"
      ],
      "text/plain": [
       "           Artist Total Views         100M   Avg\n",
       "0          Łobuzy       396.5  200000000.0  0.11\n",
       "1     İrem Derici     1,717.3  300000000.0  0.32\n",
       "2      Ñengo Flow     1,388.8  400000000.0  0.82\n",
       "3   Çağatay Akman       742.7  200000000.0  0.05\n",
       "4       will.i.am     2,582.0  600000000.0  0.30\n",
       "..            ...         ...          ...   ...\n",
       "95     Via Vallen     1,787.5  300000000.0  0.08\n",
       "96   Veysel Mutlu       277.4  100000000.0  0.03\n",
       "97         Veysel       412.2          0.0  0.06\n",
       "98      Vengaboys       934.8  300000000.0  0.34\n",
       "99      Vegedream       991.3  100000000.0  0.51\n",
       "\n",
       "[100 rows x 4 columns]"
      ]
     },
     "execution_count": 35,
     "metadata": {},
     "output_type": "execute_result"
    }
   ],
   "source": [
    "df_filter_by_name.iloc[0:100]"
   ]
  },
  {
   "cell_type": "markdown",
   "id": "3d65fa9e",
   "metadata": {},
   "source": [
    "# Save clean data"
   ]
  },
  {
   "cell_type": "code",
   "execution_count": 38,
   "id": "2e6c227d",
   "metadata": {},
   "outputs": [],
   "source": [
    "df.to_csv(\"topyoutube_clean\", index=False)"
   ]
  }
 ],
 "metadata": {
  "hide_input": false,
  "kernelspec": {
   "display_name": "Python 3 (ipykernel)",
   "language": "python",
   "name": "python3"
  },
  "language_info": {
   "codemirror_mode": {
    "name": "ipython",
    "version": 3
   },
   "file_extension": ".py",
   "mimetype": "text/x-python",
   "name": "python",
   "nbconvert_exporter": "python",
   "pygments_lexer": "ipython3",
   "version": "3.10.9"
  }
 },
 "nbformat": 4,
 "nbformat_minor": 5
}
